{
 "cells": [
  {
   "cell_type": "code",
   "execution_count": 8,
   "id": "0a0f2845-5f6f-4636-afb3-ec2f06c874e8",
   "metadata": {
    "scrolled": true
   },
   "outputs": [
    {
     "name": "stdout",
     "output_type": "stream",
     "text": [
      "Requirement already satisfied: awscli in /opt/conda/lib/python3.11/site-packages (1.35.0)\n",
      "Requirement already satisfied: botocore==1.35.34 in /opt/conda/lib/python3.11/site-packages (from awscli) (1.35.34)\n",
      "Requirement already satisfied: docutils<0.17,>=0.10 in /opt/conda/lib/python3.11/site-packages (from awscli) (0.16)\n",
      "Requirement already satisfied: s3transfer<0.11.0,>=0.10.0 in /opt/conda/lib/python3.11/site-packages (from awscli) (0.10.2)\n",
      "Requirement already satisfied: PyYAML<6.1,>=3.10 in /opt/conda/lib/python3.11/site-packages (from awscli) (6.0.1)\n",
      "Requirement already satisfied: colorama<0.4.7,>=0.2.5 in /opt/conda/lib/python3.11/site-packages (from awscli) (0.4.6)\n",
      "Requirement already satisfied: rsa<4.8,>=3.1.2 in /opt/conda/lib/python3.11/site-packages (from awscli) (4.7.2)\n",
      "Requirement already satisfied: jmespath<2.0.0,>=0.7.1 in /opt/conda/lib/python3.11/site-packages (from botocore==1.35.34->awscli) (1.0.1)\n",
      "Requirement already satisfied: python-dateutil<3.0.0,>=2.1 in /opt/conda/lib/python3.11/site-packages (from botocore==1.35.34->awscli) (2.8.2)\n",
      "Requirement already satisfied: urllib3!=2.2.0,<3,>=1.25.4 in /opt/conda/lib/python3.11/site-packages (from botocore==1.35.34->awscli) (2.0.7)\n",
      "Requirement already satisfied: pyasn1>=0.1.3 in /opt/conda/lib/python3.11/site-packages (from rsa<4.8,>=3.1.2->awscli) (0.6.1)\n",
      "Requirement already satisfied: six>=1.5 in /opt/conda/lib/python3.11/site-packages (from python-dateutil<3.0.0,>=2.1->botocore==1.35.34->awscli) (1.16.0)\n"
     ]
    },
    {
     "name": "stderr",
     "output_type": "stream",
     "text": [
      "mkdir: cannot create directory ‘/home/jovyan/.aws’: File exists\n"
     ]
    }
   ],
   "source": [
    "%%bash\n",
    "python -m pip install awscli\n",
    "mkdir  ~/.aws"
   ]
  },
  {
   "cell_type": "code",
   "execution_count": 12,
   "id": "51f75460-aca3-48f8-ab51-0589d1808859",
   "metadata": {},
   "outputs": [],
   "source": [
    "with open('/home/jovyan/.aws/credentials', 'w') as f:\n",
    "    f.write('''[default]\n",
    "aws_access_key_id = SAM2WSOEBRKHB4ML3ZBZ\n",
    "aws_secret_access_key = ybUbhzpBgus0FtShOxtzcneBwBDtClmkZCJDCz6H\n",
    "''')"
   ]
  },
  {
   "cell_type": "code",
   "execution_count": null,
   "id": "d236411c-4efd-4acc-a871-f6751e2b0923",
   "metadata": {},
   "outputs": [],
   "source": [
    "%%bash\n",
    "aws  --endpoint-url=https://s3.twcc.ai s3 sync YOUR_FOLDER s3://ntudata/GROUP"
   ]
  },
  {
   "cell_type": "code",
   "execution_count": null,
   "id": "ec9f1203-997e-401c-83c1-34ff794a6b6b",
   "metadata": {},
   "outputs": [],
   "source": [
    "%%bash\n",
    "aws --endpoint-url=https://s3.twcc.ai s3 cp --recursive s3://ntudata/GROUP YOUR_FOLDER"
   ]
  }
 ],
 "metadata": {
  "kernelspec": {
   "display_name": "Python 3 (ipykernel)",
   "language": "python",
   "name": "python3"
  },
  "language_info": {
   "codemirror_mode": {
    "name": "ipython",
    "version": 3
   },
   "file_extension": ".py",
   "mimetype": "text/x-python",
   "name": "python",
   "nbconvert_exporter": "python",
   "pygments_lexer": "ipython3",
   "version": "3.11.6"
  }
 },
 "nbformat": 4,
 "nbformat_minor": 5
}
